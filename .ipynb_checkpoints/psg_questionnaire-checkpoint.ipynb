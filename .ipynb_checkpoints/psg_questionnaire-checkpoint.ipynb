{
 "cells": [
  {
   "cell_type": "code",
   "execution_count": 30,
   "id": "da89ff81",
   "metadata": {},
   "outputs": [],
   "source": [
    "import pandas as pd\n",
    "import numpy as np\n",
    "from sklearn.preprocessing import scale\n",
    "from sklearn.linear_model import Lasso\n",
    "from sklearn.feature_selection import SelectFromModel\n",
    "from sklearn.model_selection import train_test_split, cross_val_score"
   ]
  },
  {
   "cell_type": "markdown",
   "id": "fa32d0f0",
   "metadata": {},
   "source": [
    "## Load data"
   ]
  },
  {
   "cell_type": "code",
   "execution_count": 24,
   "id": "b6cd52d2",
   "metadata": {
    "scrolled": true
   },
   "outputs": [],
   "source": [
    "df = pd.read_excel('PSG_sleep_index_20220928.xlsx')"
   ]
  },
  {
   "cell_type": "code",
   "execution_count": 27,
   "id": "2485592d",
   "metadata": {},
   "outputs": [],
   "source": [
    "X = scale(df.iloc[:, 10:19]) # k to s column\n",
    "y1 = df[['(A6①)寝つきの良さ']]\n",
    "y2 = df[['(A6③)眠りの深さ']]\n",
    "y3 = df[['(A6⑤)全体的な睡眠の質']]\n",
    "\n",
    "feature_names = df.columns[10:19]"
   ]
  },
  {
   "cell_type": "markdown",
   "id": "bf22efe2",
   "metadata": {},
   "source": [
    "## Lasso Regression"
   ]
  },
  {
   "cell_type": "markdown",
   "id": "f03955e3",
   "metadata": {},
   "source": [
    "### (A6①)寝つきの良さ"
   ]
  },
  {
   "cell_type": "code",
   "execution_count": 40,
   "id": "4a108d34",
   "metadata": {},
   "outputs": [],
   "source": [
    "X_train, X_test, y_train, y_test = train_test_split(X, y1, test_size = 0.3, random_state=2)"
   ]
  },
  {
   "cell_type": "code",
   "execution_count": 41,
   "id": "bd0a32f6",
   "metadata": {},
   "outputs": [
    {
     "data": {
      "text/plain": [
       "array([-0.12940347, -0.        , -0.08719537,  0.        ,  0.1528083 ,\n",
       "       -0.        ,  0.        ,  0.03573634, -0.        ])"
      ]
     },
     "execution_count": 41,
     "metadata": {},
     "output_type": "execute_result"
    }
   ],
   "source": [
    "lasso = Lasso(alpha=0.05)\n",
    "lasso.fit(X_train, y_train)\n",
    "\n",
    "lasso.coef_"
   ]
  },
  {
   "cell_type": "code",
   "execution_count": 43,
   "id": "c2b41ae9",
   "metadata": {},
   "outputs": [
    {
     "name": "stdout",
     "output_type": "stream",
     "text": [
      "(93, 4)\n",
      "Selected feature names: Index(['Sleep Latency (min)', 'REM Latency (min)', 'TST/SPT (%)', 'Deep (%)'], dtype='object')\n",
      "R2 score -0.2165\n"
     ]
    }
   ],
   "source": [
    "lasso_selected = SelectFromModel(lasso, prefit=True)\n",
    "X_test_selected = lasso_selected.transform(X_test)\n",
    "print(X_test_selected.shape)\n",
    "print(\"Selected feature names:\", feature_names[lasso_selected.get_support()])\n",
    "\n",
    "scores = cross_val_score(lasso, X_test_selected, y_test, cv=10)\n",
    "print(\"R2 score {:.4f}\".format(scores.mean()))"
   ]
  },
  {
   "cell_type": "markdown",
   "id": "441f2f67",
   "metadata": {},
   "source": [
    "### (A6③)眠りの深さ"
   ]
  },
  {
   "cell_type": "code",
   "execution_count": 44,
   "id": "5b1be7df",
   "metadata": {},
   "outputs": [],
   "source": [
    "X_train, X_test, y_train, y_test = train_test_split(X, y2, test_size = 0.3, random_state=2)"
   ]
  },
  {
   "cell_type": "code",
   "execution_count": 45,
   "id": "1718c0e2",
   "metadata": {},
   "outputs": [
    {
     "data": {
      "text/plain": [
       "array([ 0.        ,  0.        ,  0.06229516, -0.31229707, -0.        ,\n",
       "        0.        , -0.        , -0.        ,  0.        ])"
      ]
     },
     "execution_count": 45,
     "metadata": {},
     "output_type": "execute_result"
    }
   ],
   "source": [
    "lasso = Lasso(alpha=0.05)\n",
    "lasso.fit(X_train, y_train)\n",
    "\n",
    "lasso.coef_"
   ]
  },
  {
   "cell_type": "code",
   "execution_count": 46,
   "id": "25e77e06",
   "metadata": {},
   "outputs": [
    {
     "name": "stdout",
     "output_type": "stream",
     "text": [
      "(93, 2)\n",
      "Selected feature names: Index(['REM Latency (min)', 'TST (Total Sleep Time (min))'], dtype='object')\n",
      "R2 score 0.0097\n"
     ]
    }
   ],
   "source": [
    "lasso_selected = SelectFromModel(lasso, prefit=True)\n",
    "X_test_selected = lasso_selected.transform(X_test)\n",
    "print(X_test_selected.shape)\n",
    "print(\"Selected feature names:\", feature_names[lasso_selected.get_support()])\n",
    "\n",
    "scores = cross_val_score(lasso, X_test_selected, y_test, cv=10)\n",
    "print(\"R2 score {:.4f}\".format(scores.mean()))"
   ]
  },
  {
   "cell_type": "markdown",
   "id": "5008269e",
   "metadata": {},
   "source": [
    "### (A6⑤)全体的な睡眠の質"
   ]
  },
  {
   "cell_type": "code",
   "execution_count": 47,
   "id": "264eb87d",
   "metadata": {},
   "outputs": [],
   "source": [
    "X_train, X_test, y_train, y_test = train_test_split(X, y3, test_size = 0.3, random_state=2)"
   ]
  },
  {
   "cell_type": "code",
   "execution_count": 48,
   "id": "78f5e47d",
   "metadata": {},
   "outputs": [
    {
     "data": {
      "text/plain": [
       "array([ 0.02784954,  0.01001932,  0.11930802, -0.        , -0.00796792,\n",
       "        0.        , -0.        , -0.08841962,  0.        ])"
      ]
     },
     "execution_count": 48,
     "metadata": {},
     "output_type": "execute_result"
    }
   ],
   "source": [
    "lasso = Lasso(alpha=0.05)\n",
    "lasso.fit(X_train, y_train)\n",
    "\n",
    "lasso.coef_"
   ]
  },
  {
   "cell_type": "code",
   "execution_count": 49,
   "id": "43ac92c3",
   "metadata": {},
   "outputs": [
    {
     "name": "stdout",
     "output_type": "stream",
     "text": [
      "(93, 5)\n",
      "Selected feature names: Index(['Sleep Latency (min)', 'Deep Latency (min)', 'REM Latency (min)',\n",
      "       'TST/SPT (%)', 'Deep (%)'],\n",
      "      dtype='object')\n",
      "R2 score -0.1352\n"
     ]
    }
   ],
   "source": [
    "lasso_selected = SelectFromModel(lasso, prefit=True)\n",
    "X_test_selected = lasso_selected.transform(X_test)\n",
    "print(X_test_selected.shape)\n",
    "print(\"Selected feature names:\", feature_names[lasso_selected.get_support()])\n",
    "\n",
    "scores = cross_val_score(lasso, X_test_selected, y_test, cv=10)\n",
    "print(\"R2 score {:.4f}\".format(scores.mean()))"
   ]
  },
  {
   "cell_type": "code",
   "execution_count": null,
   "id": "d17f9854",
   "metadata": {},
   "outputs": [],
   "source": []
  }
 ],
 "metadata": {
  "kernelspec": {
   "display_name": "Python 3 (ipykernel)",
   "language": "python",
   "name": "python3"
  },
  "language_info": {
   "codemirror_mode": {
    "name": "ipython",
    "version": 3
   },
   "file_extension": ".py",
   "mimetype": "text/x-python",
   "name": "python",
   "nbconvert_exporter": "python",
   "pygments_lexer": "ipython3",
   "version": "3.11.3"
  }
 },
 "nbformat": 4,
 "nbformat_minor": 5
}

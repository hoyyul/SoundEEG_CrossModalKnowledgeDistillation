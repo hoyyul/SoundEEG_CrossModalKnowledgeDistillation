{
 "cells": [
  {
   "cell_type": "code",
   "execution_count": 18,
   "id": "9f4a9625",
   "metadata": {},
   "outputs": [],
   "source": [
    "import pandas as pd\n",
    "import numpy as np\n",
    "import matplotlib.pyplot as plt\n",
    "from sklearn.preprocessing import scale\n",
    "from sklearn.linear_model import Lasso\n",
    "from sklearn.feature_selection import SelectFromModel\n",
    "from sklearn.model_selection import train_test_split, cross_val_score\n",
    "from sklearn.tree import DecisionTreeClassifier\n",
    "from sklearn.decomposition import PCA\n",
    "from sklearn.inspection import DecisionBoundaryDisplay\n",
    "from sklearn.linear_model import Ridge\n",
    "from sklearn.feature_selection import SelectFromModel"
   ]
  },
  {
   "cell_type": "markdown",
   "id": "b2c25a4c",
   "metadata": {},
   "source": [
    "## Load data"
   ]
  },
  {
   "cell_type": "code",
   "execution_count": 2,
   "id": "6b1cc296",
   "metadata": {
    "scrolled": true
   },
   "outputs": [],
   "source": [
    "df = pd.read_excel('PSG_sleep_index_20220928.xlsx')"
   ]
  },
  {
   "cell_type": "code",
   "execution_count": 3,
   "id": "53e43bc6",
   "metadata": {},
   "outputs": [],
   "source": [
    "X = scale(df.iloc[:, 10:19]) # k to s column\n",
    "y1 = df[['(A6①)寝つきの良さ']]\n",
    "y2 = df[['(A6③)眠りの深さ']]\n",
    "y3 = df[['(A6⑤)全体的な睡眠の質']]\n",
    "\n",
    "feature_names = df.columns[10:19]"
   ]
  },
  {
   "cell_type": "markdown",
   "id": "0055d040",
   "metadata": {},
   "source": [
    "## L2"
   ]
  },
  {
   "cell_type": "code",
   "execution_count": 29,
   "id": "40e47463",
   "metadata": {},
   "outputs": [
    {
     "name": "stdout",
     "output_type": "stream",
     "text": [
      "(309, 6)\n",
      "Selected feature names: Index(['Sleep Latency (min)', 'REM Latency (min)',\n",
      "       'TST (Total Sleep Time (min))', 'TST/SPT (%)', 'WASO (%)', 'Deep (%)'],\n",
      "      dtype='object')\n",
      "R2 score -0.0240\n"
     ]
    }
   ],
   "source": [
    "ridge = Ridge(alpha=1)\n",
    "\n",
    "# (A6①)寝つきの良さ\n",
    "ridge.fit(X, y1)\n",
    "\n",
    "ridge_selected = SelectFromModel(ridge, prefit=True)\n",
    "\n",
    "\n",
    "X_selected = ridge_selected.transform(X)\n",
    "print(X_selected.shape)\n",
    "\n",
    "\n",
    "print(\"Selected feature names:\", feature_names[ridge_selected.get_support()])\n",
    "\n",
    "scores = cross_val_score(ridge, X_selected, y1, cv=10)\n",
    "print(\"R2 score {:.4f}\".format(scores.mean()))"
   ]
  },
  {
   "cell_type": "code",
   "execution_count": 27,
   "id": "915aa79f",
   "metadata": {},
   "outputs": [
    {
     "name": "stdout",
     "output_type": "stream",
     "text": [
      "(309, 3)\n",
      "Selected feature names: Index(['REM Latency (min)', 'TST (Total Sleep Time (min))', 'REM (%)'], dtype='object')\n",
      "R2 score 0.0767\n"
     ]
    }
   ],
   "source": [
    "ridge = Ridge(alpha=1)\n",
    "\n",
    "# (A6③)眠りの深さ\n",
    "ridge.fit(X, y2)\n",
    "\n",
    "ridge_selected = SelectFromModel(ridge, prefit=True)\n",
    "\n",
    "\n",
    "X_selected = ridge_selected.transform(X)\n",
    "print(X_selected.shape)\n",
    "\n",
    "\n",
    "print(\"Selected feature names:\", feature_names[ridge_selected.get_support()])\n",
    "\n",
    "scores = cross_val_score(ridge, X_selected, y2, cv=10)\n",
    "print(\"R2 score {:.4f}\".format(scores.mean()))"
   ]
  },
  {
   "cell_type": "code",
   "execution_count": 31,
   "id": "9f6a8dea",
   "metadata": {},
   "outputs": [
    {
     "name": "stdout",
     "output_type": "stream",
     "text": [
      "(309, 4)\n",
      "Selected feature names: Index(['Sleep Latency (min)', 'REM Latency (min)',\n",
      "       'TST (Total Sleep Time (min))', 'Deep (%)'],\n",
      "      dtype='object')\n",
      "R2 score -0.0270\n"
     ]
    }
   ],
   "source": [
    "ridge = Ridge(alpha=1)\n",
    "\n",
    "# (A6⑤)全体的な睡眠の質\n",
    "ridge.fit(X, y3)\n",
    "\n",
    "ridge_selected = SelectFromModel(ridge, prefit=True)\n",
    "\n",
    "\n",
    "X_selected = ridge_selected.transform(X)\n",
    "print(X_selected.shape)\n",
    "\n",
    "\n",
    "print(\"Selected feature names:\", feature_names[ridge_selected.get_support()])\n",
    "\n",
    "scores = cross_val_score(ridge, X_selected, y3, cv=10)\n",
    "print(\"R2 score {:.4f}\".format(scores.mean()))"
   ]
  },
  {
   "cell_type": "markdown",
   "id": "fe8d15cc",
   "metadata": {},
   "source": [
    "## Lasso Regression"
   ]
  },
  {
   "cell_type": "markdown",
   "id": "c18df047",
   "metadata": {},
   "source": [
    "### (A6①)寝つきの良さ"
   ]
  },
  {
   "cell_type": "code",
   "execution_count": 4,
   "id": "66a2e435",
   "metadata": {},
   "outputs": [
    {
     "data": {
      "text/plain": [
       "array([-0.1853128 , -0.00177361, -0.1436525 , -0.05013226,  0.1434182 ,\n",
       "       -0.        ,  0.        ,  0.11482809, -0.        ])"
      ]
     },
     "execution_count": 4,
     "metadata": {},
     "output_type": "execute_result"
    }
   ],
   "source": [
    "lasso = Lasso(alpha=0.01)\n",
    "lasso.fit(X, y1)\n",
    "\n",
    "lasso.coef_"
   ]
  },
  {
   "cell_type": "code",
   "execution_count": 6,
   "id": "e77b152e",
   "metadata": {},
   "outputs": [
    {
     "name": "stdout",
     "output_type": "stream",
     "text": [
      "(309, 6)\n",
      "Selected feature names: Index(['Sleep Latency (min)', 'Deep Latency (min)', 'REM Latency (min)',\n",
      "       'TST (Total Sleep Time (min))', 'TST/SPT (%)', 'Deep (%)'],\n",
      "      dtype='object')\n",
      "R2 score -0.0217\n"
     ]
    }
   ],
   "source": [
    "lasso_selected = SelectFromModel(lasso, prefit=True)\n",
    "X_selected = lasso_selected.transform(X)\n",
    "print(X_selected.shape)\n",
    "print(\"Selected feature names:\", feature_names[lasso_selected.get_support()])\n",
    "\n",
    "scores = cross_val_score(lasso, X_selected, y1, cv=10)\n",
    "print(\"R2 score {:.4f}\".format(scores.mean()))"
   ]
  },
  {
   "cell_type": "markdown",
   "id": "e1bca9eb",
   "metadata": {},
   "source": [
    "### (A6③)眠りの深さ"
   ]
  },
  {
   "cell_type": "code",
   "execution_count": 14,
   "id": "04304ae2",
   "metadata": {},
   "outputs": [
    {
     "data": {
      "text/plain": [
       "array([ 0.0104295 ,  0.        ,  0.10503821, -0.36795879, -0.        ,\n",
       "        0.        , -0.00666402,  0.        ,  0.06336108])"
      ]
     },
     "execution_count": 14,
     "metadata": {},
     "output_type": "execute_result"
    }
   ],
   "source": [
    "lasso = Lasso(alpha=0.01)\n",
    "lasso.fit(X, y2)\n",
    "\n",
    "lasso.coef_"
   ]
  },
  {
   "cell_type": "code",
   "execution_count": 15,
   "id": "6f81925d",
   "metadata": {},
   "outputs": [
    {
     "name": "stdout",
     "output_type": "stream",
     "text": [
      "(309, 5)\n",
      "Selected feature names: Index(['Sleep Latency (min)', 'REM Latency (min)',\n",
      "       'TST (Total Sleep Time (min))', 'Light (%)', 'REM (%)'],\n",
      "      dtype='object')\n",
      "R2 score 0.0339\n"
     ]
    }
   ],
   "source": [
    "lasso_selected = SelectFromModel(lasso, prefit=True)\n",
    "X_selected = lasso_selected.transform(X)\n",
    "print(X_selected.shape)\n",
    "print(\"Selected feature names:\", feature_names[lasso_selected.get_support()])\n",
    "\n",
    "scores = cross_val_score(lasso, X_selected, y2, cv=10)\n",
    "print(\"R2 score {:.4f}\".format(scores.mean()))"
   ]
  },
  {
   "cell_type": "markdown",
   "id": "57f0fbdb",
   "metadata": {},
   "source": [
    "### (A6⑤)全体的な睡眠の質"
   ]
  },
  {
   "cell_type": "code",
   "execution_count": 16,
   "id": "f816b592",
   "metadata": {},
   "outputs": [
    {
     "data": {
      "text/plain": [
       "array([ 0.04643829, -0.        ,  0.16394603, -0.05513845,  0.        ,\n",
       "       -0.        ,  0.        , -0.08242587,  0.01084813])"
      ]
     },
     "execution_count": 16,
     "metadata": {},
     "output_type": "execute_result"
    }
   ],
   "source": [
    "lasso = Lasso(alpha=0.01)\n",
    "lasso.fit(X, y3)\n",
    "\n",
    "lasso.coef_"
   ]
  },
  {
   "cell_type": "code",
   "execution_count": 17,
   "id": "795c5c5a",
   "metadata": {},
   "outputs": [
    {
     "name": "stdout",
     "output_type": "stream",
     "text": [
      "(309, 5)\n",
      "Selected feature names: Index(['Sleep Latency (min)', 'REM Latency (min)',\n",
      "       'TST (Total Sleep Time (min))', 'Deep (%)', 'REM (%)'],\n",
      "      dtype='object')\n",
      "R2 score -0.0309\n"
     ]
    }
   ],
   "source": [
    "lasso_selected = SelectFromModel(lasso, prefit=True)\n",
    "X_selected = lasso_selected.transform(X)\n",
    "print(X_selected.shape)\n",
    "print(\"Selected feature names:\", feature_names[lasso_selected.get_support()])\n",
    "\n",
    "scores = cross_val_score(lasso, X_selected, y3, cv=10)\n",
    "print(\"R2 score {:.4f}\".format(scores.mean()))"
   ]
  },
  {
   "cell_type": "markdown",
   "id": "a6c7739d",
   "metadata": {},
   "source": [
    "## Desicion Tree"
   ]
  },
  {
   "cell_type": "markdown",
   "id": "4c59f12f",
   "metadata": {},
   "source": [
    "### (A6①)寝つきの良さ"
   ]
  },
  {
   "cell_type": "code",
   "execution_count": 42,
   "id": "eedea1e1",
   "metadata": {},
   "outputs": [],
   "source": [
    "from sklearn.tree import DecisionTreeRegressor"
   ]
  },
  {
   "cell_type": "code",
   "execution_count": 52,
   "id": "28808d16",
   "metadata": {},
   "outputs": [
    {
     "name": "stdout",
     "output_type": "stream",
     "text": [
      "[0.10456844 0.20569783 0.14805994 0.13270276 0.13455909 0.0413656\n",
      " 0.06811655 0.09254799 0.07238181]\n"
     ]
    }
   ],
   "source": [
    "tree = DecisionTreeRegressor().fit(X, y1)\n",
    "importances = tree.feature_importances_\n",
    "print(importances)"
   ]
  },
  {
   "cell_type": "code",
   "execution_count": 53,
   "id": "2a6e49ef",
   "metadata": {},
   "outputs": [
    {
     "name": "stdout",
     "output_type": "stream",
     "text": [
      "R2 score -0.9511\n"
     ]
    }
   ],
   "source": [
    "sfm = SelectFromModel(tree, threshold=0.1)\n",
    "X_selected = sfm.transform(X)\n",
    "\n",
    "scores = cross_val_score(tree, X_selected, y1, cv=10)\n",
    "print(\"R2 score {:.4f}\".format(scores.mean()))"
   ]
  },
  {
   "cell_type": "code",
   "execution_count": 34,
   "id": "7b6b83e3",
   "metadata": {},
   "outputs": [],
   "source": [
    "tree = DecisionTreeClassifier().fit(X, y1)"
   ]
  },
  {
   "cell_type": "code",
   "execution_count": 35,
   "id": "e2b4ac84",
   "metadata": {},
   "outputs": [
    {
     "name": "stdout",
     "output_type": "stream",
     "text": [
      "平均Accuracy:  0.39182795698924733\n"
     ]
    }
   ],
   "source": [
    "scores = cross_val_score(tree, X, y1, cv=10) \n",
    "average_accuracy = scores.mean()\n",
    "print(\"平均Accuracy: \", average_accuracy)"
   ]
  },
  {
   "cell_type": "markdown",
   "id": "cb89fcea",
   "metadata": {},
   "source": [
    "### (A6③)眠りの深さ"
   ]
  },
  {
   "cell_type": "code",
   "execution_count": 48,
   "id": "c2f0673d",
   "metadata": {},
   "outputs": [
    {
     "name": "stdout",
     "output_type": "stream",
     "text": [
      "[0.16361032 0.04865681 0.15262386 0.26726076 0.03879323 0.04413227\n",
      " 0.08762997 0.11743111 0.07986167]\n"
     ]
    }
   ],
   "source": [
    "tree = DecisionTreeRegressor().fit(X, y2)\n",
    "importances = tree.feature_importances_\n",
    "print(importances)"
   ]
  },
  {
   "cell_type": "code",
   "execution_count": 49,
   "id": "65b6cc72",
   "metadata": {},
   "outputs": [
    {
     "name": "stdout",
     "output_type": "stream",
     "text": [
      "R2 score -0.7440\n"
     ]
    }
   ],
   "source": [
    "sfm = SelectFromModel(tree, threshold=0.1)\n",
    "X_selected = sfm.transform(X)\n",
    "\n",
    "scores = cross_val_score(tree, X_selected, y2, cv=10)\n",
    "print(\"R2 score {:.4f}\".format(scores.mean()))"
   ]
  },
  {
   "cell_type": "code",
   "execution_count": 36,
   "id": "4071f5ce",
   "metadata": {},
   "outputs": [],
   "source": [
    "tree = DecisionTreeClassifier().fit(X, y2)"
   ]
  },
  {
   "cell_type": "code",
   "execution_count": 37,
   "id": "ad640865",
   "metadata": {},
   "outputs": [
    {
     "name": "stdout",
     "output_type": "stream",
     "text": [
      "平均Accuracy:  0.34301075268817205\n"
     ]
    }
   ],
   "source": [
    "scores = cross_val_score(tree, X, y2, cv=10) \n",
    "average_accuracy = scores.mean()\n",
    "print(\"平均Accuracy: \", average_accuracy)"
   ]
  },
  {
   "cell_type": "markdown",
   "id": "16a3aacd",
   "metadata": {},
   "source": [
    "### (A6⑤)全体的な睡眠の質"
   ]
  },
  {
   "cell_type": "code",
   "execution_count": 50,
   "id": "533a982c",
   "metadata": {},
   "outputs": [
    {
     "name": "stdout",
     "output_type": "stream",
     "text": [
      "[0.09173351 0.04547075 0.17709762 0.12634134 0.07223643 0.09787758\n",
      " 0.12870775 0.12770048 0.13283455]\n"
     ]
    }
   ],
   "source": [
    "tree = DecisionTreeRegressor().fit(X, y3)\n",
    "importances = tree.feature_importances_\n",
    "print(importances)"
   ]
  },
  {
   "cell_type": "code",
   "execution_count": 51,
   "id": "39f8bfd7",
   "metadata": {},
   "outputs": [
    {
     "name": "stdout",
     "output_type": "stream",
     "text": [
      "R2 score -1.2226\n"
     ]
    }
   ],
   "source": [
    "sfm = SelectFromModel(tree, threshold=0.1)\n",
    "X_selected = sfm.transform(X)\n",
    "\n",
    "scores = cross_val_score(tree, X_selected, y3, cv=10)\n",
    "print(\"R2 score {:.4f}\".format(scores.mean()))"
   ]
  },
  {
   "cell_type": "code",
   "execution_count": 38,
   "id": "c1b719db",
   "metadata": {},
   "outputs": [],
   "source": [
    "tree = DecisionTreeClassifier().fit(X, y3)"
   ]
  },
  {
   "cell_type": "code",
   "execution_count": 40,
   "id": "bb0820e1",
   "metadata": {},
   "outputs": [
    {
     "name": "stdout",
     "output_type": "stream",
     "text": [
      "平均Accuracy:  0.34634408602150535\n"
     ]
    }
   ],
   "source": [
    "scores = cross_val_score(tree, X, y3, cv=10) \n",
    "average_accuracy = scores.mean()\n",
    "print(\"平均Accuracy: \", average_accuracy)"
   ]
  }
 ],
 "metadata": {
  "kernelspec": {
   "display_name": "Python 3 (ipykernel)",
   "language": "python",
   "name": "python3"
  },
  "language_info": {
   "codemirror_mode": {
    "name": "ipython",
    "version": 3
   },
   "file_extension": ".py",
   "mimetype": "text/x-python",
   "name": "python",
   "nbconvert_exporter": "python",
   "pygments_lexer": "ipython3",
   "version": "3.11.3"
  }
 },
 "nbformat": 4,
 "nbformat_minor": 5
}

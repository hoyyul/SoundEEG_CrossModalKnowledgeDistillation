{
 "cells": [
  {
   "cell_type": "code",
   "execution_count": 3,
   "id": "9f4a9625",
   "metadata": {},
   "outputs": [],
   "source": [
    "import pandas as pd\n",
    "import numpy as np\n",
    "import matplotlib.pyplot as plt\n",
    "from sklearn.preprocessing import scale\n",
    "from sklearn.linear_model import Lasso\n",
    "from sklearn.feature_selection import SelectFromModel\n",
    "from sklearn.model_selection import train_test_split, cross_val_score\n",
    "from sklearn.tree import DecisionTreeClassifier\n",
    "from sklearn.decomposition import PCA\n",
    "from sklearn.inspection import DecisionBoundaryDisplay\n",
    "from sklearn.linear_model import Ridge\n",
    "from sklearn.feature_selection import SelectFromModel\n",
    "from sklearn.model_selection import cross_validate"
   ]
  },
  {
   "cell_type": "markdown",
   "id": "b2c25a4c",
   "metadata": {},
   "source": [
    "## Load data"
   ]
  },
  {
   "cell_type": "code",
   "execution_count": 4,
   "id": "6b1cc296",
   "metadata": {
    "scrolled": true
   },
   "outputs": [],
   "source": [
    "df = pd.read_excel('PSG_sleep_index_20220928.xlsx')"
   ]
  },
  {
   "cell_type": "code",
   "execution_count": 5,
   "id": "53e43bc6",
   "metadata": {},
   "outputs": [],
   "source": [
    "X = scale(df.iloc[:, 10:19]) # k to s column\n",
    "y1 = df[['(A6①)寝つきの良さ']]\n",
    "y2 = df[['(A6③)眠りの深さ']]\n",
    "y3 = df[['(A6⑤)全体的な睡眠の質']]\n",
    "\n",
    "feature_names = df.columns[10:19]"
   ]
  },
  {
   "cell_type": "markdown",
   "id": "0055d040",
   "metadata": {},
   "source": [
    "## L2"
   ]
  },
  {
   "cell_type": "code",
   "execution_count": 27,
   "id": "40e47463",
   "metadata": {},
   "outputs": [
    {
     "name": "stdout",
     "output_type": "stream",
     "text": [
      "Train R2 score: 0.1580\n",
      "Test R2 score: -0.0364\n"
     ]
    }
   ],
   "source": [
    "ridge = Ridge(alpha=1)\n",
    "\n",
    "scores = cross_validate(ridge, X, y1, return_train_score=True, cv=10)\n",
    "\n",
    "average_test_score = scores['test_score'].mean()\n",
    "average_train_score = scores['train_score'].mean()\n",
    "print(\"Train R2 score: {:.4f}\".format(average_train_score))\n",
    "print(\"Test R2 score: {:.4f}\".format(average_test_score))"
   ]
  },
  {
   "cell_type": "code",
   "execution_count": 28,
   "id": "915aa79f",
   "metadata": {},
   "outputs": [
    {
     "name": "stdout",
     "output_type": "stream",
     "text": [
      "Train R2 score: 0.2036\n",
      "Test R2 score: 0.0008\n"
     ]
    }
   ],
   "source": [
    "ridge = Ridge(alpha=1)\n",
    "\n",
    "scores = cross_validate(ridge, X, y2, return_train_score=True, cv=10)\n",
    "\n",
    "average_test_score = scores['test_score'].mean()\n",
    "average_train_score = scores['train_score'].mean()\n",
    "print(\"Train R2 score: {:.4f}\".format(average_train_score))\n",
    "print(\"Test R2 score: {:.4f}\".format(average_test_score))"
   ]
  },
  {
   "cell_type": "code",
   "execution_count": 29,
   "id": "9f6a8dea",
   "metadata": {},
   "outputs": [
    {
     "name": "stdout",
     "output_type": "stream",
     "text": [
      "Train R2 score: 0.0713\n",
      "Test R2 score: -0.0544\n"
     ]
    }
   ],
   "source": [
    "ridge = Ridge(alpha=1)\n",
    "\n",
    "scores = cross_validate(ridge, X, y3, return_train_score=True, cv=10)\n",
    "\n",
    "average_test_score = scores['test_score'].mean()\n",
    "average_train_score = scores['train_score'].mean()\n",
    "print(\"Train R2 score: {:.4f}\".format(average_train_score))\n",
    "print(\"Test R2 score: {:.4f}\".format(average_test_score))"
   ]
  },
  {
   "cell_type": "markdown",
   "id": "fe8d15cc",
   "metadata": {},
   "source": [
    "## Lasso Regression"
   ]
  },
  {
   "cell_type": "markdown",
   "id": "c18df047",
   "metadata": {},
   "source": [
    "### (A6①)寝つきの良さ"
   ]
  },
  {
   "cell_type": "code",
   "execution_count": 30,
   "id": "66a2e435",
   "metadata": {},
   "outputs": [],
   "source": [
    "lasso = Lasso(alpha=0.01)"
   ]
  },
  {
   "cell_type": "code",
   "execution_count": 31,
   "id": "e77b152e",
   "metadata": {},
   "outputs": [
    {
     "name": "stdout",
     "output_type": "stream",
     "text": [
      "Train R2 score: 0.1558\n",
      "Test R2 score: -0.0245\n"
     ]
    }
   ],
   "source": [
    "scores = cross_validate(lasso, X, y1, return_train_score=True, cv=10)\n",
    "\n",
    "average_test_score = scores['test_score'].mean()\n",
    "average_train_score = scores['train_score'].mean()\n",
    "print(\"Train R2 score: {:.4f}\".format(average_train_score))\n",
    "print(\"Test R2 score: {:.4f}\".format(average_test_score))"
   ]
  },
  {
   "cell_type": "markdown",
   "id": "e1bca9eb",
   "metadata": {},
   "source": [
    "### (A6③)眠りの深さ"
   ]
  },
  {
   "cell_type": "code",
   "execution_count": 32,
   "id": "04304ae2",
   "metadata": {},
   "outputs": [],
   "source": [
    "lasso = Lasso(alpha=0.01)"
   ]
  },
  {
   "cell_type": "code",
   "execution_count": 33,
   "id": "6f81925d",
   "metadata": {},
   "outputs": [
    {
     "name": "stdout",
     "output_type": "stream",
     "text": [
      "Train R2 score: 0.2023\n",
      "Test R2 score: 0.0210\n"
     ]
    }
   ],
   "source": [
    "scores = cross_validate(lasso, X, y2, return_train_score=True, cv=10)\n",
    "\n",
    "average_test_score = scores['test_score'].mean()\n",
    "average_train_score = scores['train_score'].mean()\n",
    "print(\"Train R2 score: {:.4f}\".format(average_train_score))\n",
    "print(\"Test R2 score: {:.4f}\".format(average_test_score))"
   ]
  },
  {
   "cell_type": "markdown",
   "id": "57f0fbdb",
   "metadata": {},
   "source": [
    "### (A6⑤)全体的な睡眠の質"
   ]
  },
  {
   "cell_type": "code",
   "execution_count": 34,
   "id": "f816b592",
   "metadata": {},
   "outputs": [],
   "source": [
    "lasso = Lasso(alpha=0.01)"
   ]
  },
  {
   "cell_type": "code",
   "execution_count": 35,
   "id": "795c5c5a",
   "metadata": {},
   "outputs": [
    {
     "name": "stdout",
     "output_type": "stream",
     "text": [
      "Train R2 score: 0.0698\n",
      "Test R2 score: -0.0418\n"
     ]
    }
   ],
   "source": [
    "scores = cross_validate(lasso, X, y3, return_train_score=True, cv=10)\n",
    "\n",
    "average_test_score = scores['test_score'].mean()\n",
    "average_train_score = scores['train_score'].mean()\n",
    "print(\"Train R2 score: {:.4f}\".format(average_train_score))\n",
    "print(\"Test R2 score: {:.4f}\".format(average_test_score))"
   ]
  },
  {
   "cell_type": "markdown",
   "id": "a6c7739d",
   "metadata": {},
   "source": [
    "## Desicion Tree"
   ]
  },
  {
   "cell_type": "markdown",
   "id": "4c59f12f",
   "metadata": {},
   "source": [
    "### (A6①)寝つきの良さ"
   ]
  },
  {
   "cell_type": "code",
   "execution_count": 18,
   "id": "eedea1e1",
   "metadata": {},
   "outputs": [],
   "source": [
    "from sklearn.tree import DecisionTreeRegressor"
   ]
  },
  {
   "cell_type": "code",
   "execution_count": 19,
   "id": "28808d16",
   "metadata": {},
   "outputs": [
    {
     "name": "stdout",
     "output_type": "stream",
     "text": [
      "[0.11334354 0.19748192 0.16684858 0.11025144 0.12584828 0.04181708\n",
      " 0.09810042 0.06758784 0.0787209 ]\n"
     ]
    }
   ],
   "source": [
    "tree = DecisionTreeRegressor().fit(X, y1)\n",
    "importances = tree.feature_importances_\n",
    "print(importances)"
   ]
  },
  {
   "cell_type": "code",
   "execution_count": 20,
   "id": "2a6e49ef",
   "metadata": {},
   "outputs": [
    {
     "name": "stdout",
     "output_type": "stream",
     "text": [
      "R2 score -0.9962\n"
     ]
    }
   ],
   "source": [
    "scores = cross_val_score(tree, X, y1, cv=10)\n",
    "print(\"R2 score {:.4f}\".format(scores.mean()))"
   ]
  },
  {
   "cell_type": "code",
   "execution_count": 44,
   "id": "7b6b83e3",
   "metadata": {},
   "outputs": [],
   "source": [
    "tree = DecisionTreeClassifier(max_depth=2).fit(X, y1)"
   ]
  },
  {
   "cell_type": "code",
   "execution_count": 45,
   "id": "e2b4ac84",
   "metadata": {},
   "outputs": [
    {
     "name": "stdout",
     "output_type": "stream",
     "text": [
      "Train R2 score: 0.5239\n",
      "Test R2 score: 0.5018\n"
     ]
    }
   ],
   "source": [
    "scores = cross_validate(tree, X, y1, return_train_score=True, cv=10)\n",
    "\n",
    "average_test_score = scores['test_score'].mean()\n",
    "average_train_score = scores['train_score'].mean()\n",
    "print(\"Train R2 score: {:.4f}\".format(average_train_score))\n",
    "print(\"Test R2 score: {:.4f}\".format(average_test_score))"
   ]
  },
  {
   "cell_type": "markdown",
   "id": "cb89fcea",
   "metadata": {},
   "source": [
    "### (A6③)眠りの深さ"
   ]
  },
  {
   "cell_type": "code",
   "execution_count": 21,
   "id": "c2f0673d",
   "metadata": {
    "scrolled": true
   },
   "outputs": [
    {
     "name": "stdout",
     "output_type": "stream",
     "text": [
      "[0.16556379 0.08448634 0.14936829 0.25026365 0.018366   0.03100129\n",
      " 0.10822585 0.09427314 0.09845164]\n"
     ]
    }
   ],
   "source": [
    "tree = DecisionTreeRegressor().fit(X, y2)\n",
    "importances = tree.feature_importances_\n",
    "print(importances)"
   ]
  },
  {
   "cell_type": "code",
   "execution_count": 22,
   "id": "65b6cc72",
   "metadata": {},
   "outputs": [
    {
     "name": "stdout",
     "output_type": "stream",
     "text": [
      "R2 score -0.5483\n"
     ]
    }
   ],
   "source": [
    "scores = cross_val_score(tree, X, y2, cv=10)\n",
    "print(\"R2 score {:.4f}\".format(scores.mean()))"
   ]
  },
  {
   "cell_type": "code",
   "execution_count": 56,
   "id": "4071f5ce",
   "metadata": {},
   "outputs": [],
   "source": [
    "tree = DecisionTreeClassifier(max_depth=4).fit(X, y2)"
   ]
  },
  {
   "cell_type": "code",
   "execution_count": 57,
   "id": "ad640865",
   "metadata": {},
   "outputs": [
    {
     "name": "stdout",
     "output_type": "stream",
     "text": [
      "Train R2 score: 0.5739\n",
      "Test R2 score: 0.4045\n"
     ]
    }
   ],
   "source": [
    "scores = cross_validate(tree, X, y2, return_train_score=True, cv=10)\n",
    "\n",
    "average_test_score = scores['test_score'].mean()\n",
    "average_train_score = scores['train_score'].mean()\n",
    "print(\"Train R2 score: {:.4f}\".format(average_train_score))\n",
    "print(\"Test R2 score: {:.4f}\".format(average_test_score))"
   ]
  },
  {
   "cell_type": "markdown",
   "id": "16a3aacd",
   "metadata": {},
   "source": [
    "### (A6⑤)全体的な睡眠の質"
   ]
  },
  {
   "cell_type": "code",
   "execution_count": 23,
   "id": "533a982c",
   "metadata": {},
   "outputs": [
    {
     "name": "stdout",
     "output_type": "stream",
     "text": [
      "[0.10675508 0.05070937 0.17927962 0.13486198 0.0465909  0.10503016\n",
      " 0.10926807 0.13430879 0.13319603]\n"
     ]
    }
   ],
   "source": [
    "tree = DecisionTreeRegressor().fit(X, y3)\n",
    "importances = tree.feature_importances_\n",
    "print(importances)"
   ]
  },
  {
   "cell_type": "code",
   "execution_count": 24,
   "id": "39f8bfd7",
   "metadata": {},
   "outputs": [
    {
     "name": "stdout",
     "output_type": "stream",
     "text": [
      "R2 score -1.0417\n"
     ]
    }
   ],
   "source": [
    "scores = cross_val_score(tree, X, y3, cv=10)\n",
    "print(\"R2 score {:.4f}\".format(scores.mean()))"
   ]
  },
  {
   "cell_type": "code",
   "execution_count": 64,
   "id": "c1b719db",
   "metadata": {},
   "outputs": [],
   "source": [
    "tree = DecisionTreeClassifier(max_depth=4).fit(X, y3)"
   ]
  },
  {
   "cell_type": "code",
   "execution_count": 65,
   "id": "bb0820e1",
   "metadata": {},
   "outputs": [
    {
     "name": "stdout",
     "output_type": "stream",
     "text": [
      "Train R2 score: 0.5710\n",
      "Test R2 score: 0.4337\n"
     ]
    }
   ],
   "source": [
    "scores = cross_validate(tree, X, y3, return_train_score=True, cv=10)\n",
    "\n",
    "average_test_score = scores['test_score'].mean()\n",
    "average_train_score = scores['train_score'].mean()\n",
    "print(\"Train R2 score: {:.4f}\".format(average_train_score))\n",
    "print(\"Test R2 score: {:.4f}\".format(average_test_score))"
   ]
  },
  {
   "cell_type": "markdown",
   "id": "40fa6d5f",
   "metadata": {},
   "source": [
    "## SV"
   ]
  },
  {
   "cell_type": "code",
   "execution_count": 93,
   "id": "1cc57767",
   "metadata": {},
   "outputs": [],
   "source": [
    "from sklearn.svm import SVR\n",
    "from sklearn.svm import SVC"
   ]
  },
  {
   "cell_type": "code",
   "execution_count": 117,
   "id": "57724a01",
   "metadata": {},
   "outputs": [
    {
     "name": "stderr",
     "output_type": "stream",
     "text": [
      "/var/folders/26/6_c0j3116r385m4y1ss97ntw0000gp/T/ipykernel_23334/1553019768.py:2: DataConversionWarning: A column-vector y was passed when a 1d array was expected. Please change the shape of y to (n_samples, ), for example using ravel().\n",
      "  y1 = column_or_1d(y1, warn=True)\n",
      "/var/folders/26/6_c0j3116r385m4y1ss97ntw0000gp/T/ipykernel_23334/1553019768.py:3: DataConversionWarning: A column-vector y was passed when a 1d array was expected. Please change the shape of y to (n_samples, ), for example using ravel().\n",
      "  y2 = column_or_1d(y2, warn=True)\n",
      "/var/folders/26/6_c0j3116r385m4y1ss97ntw0000gp/T/ipykernel_23334/1553019768.py:4: DataConversionWarning: A column-vector y was passed when a 1d array was expected. Please change the shape of y to (n_samples, ), for example using ravel().\n",
      "  y3 = column_or_1d(y3, warn=True)\n"
     ]
    }
   ],
   "source": [
    "from sklearn.utils import column_or_1d\n",
    "y1 = column_or_1d(y1, warn=True)\n",
    "y2 = column_or_1d(y2, warn=True)\n",
    "y3 = column_or_1d(y3, warn=True)"
   ]
  },
  {
   "cell_type": "code",
   "execution_count": 131,
   "id": "4c73bdf2",
   "metadata": {
    "scrolled": false
   },
   "outputs": [
    {
     "name": "stdout",
     "output_type": "stream",
     "text": [
      "Train R2 score for (A6①)寝つきの良さ: 0.0962\n",
      "Test R2 scorefor (A6①)寝つきの良さ: -0.0041\n",
      "Train R2 score for (A6③)眠りの深さ: 0.1363\n",
      "Test R2 scorefor (A6③)眠りの深さ: -0.0145\n",
      "Train R2 score for (A6⑤)全体的な睡眠の質: 0.0486\n",
      "Test R2 scorefor (A6⑤)全体的な睡眠の質: -0.0224\n"
     ]
    }
   ],
   "source": [
    "svr1 = SVR(kernel='rbf', gamma=0.001, C=1).fit(X, y1)\n",
    "svr2 = SVR(kernel='rbf', gamma=0.001, C=1).fit(X, y2)\n",
    "svr3 = SVR(kernel='rbf', gamma=0.001, C=1).fit(X, y3)\n",
    "scores1 = cross_validate(svr1, X, y1, return_train_score=True, cv=10)\n",
    "scores2 = cross_validate(svr2, X, y2, return_train_score=True, cv=10)\n",
    "scores3 = cross_validate(svr3, X, y3, return_train_score=True, cv=10)\n",
    "\n",
    "average_test_score1 = scores1['test_score'].mean()\n",
    "average_train_score1 = scores1['train_score'].mean()\n",
    "average_test_score2 = scores2['test_score'].mean()\n",
    "average_train_score2 = scores2['train_score'].mean()\n",
    "average_test_score3 = scores3['test_score'].mean()\n",
    "average_train_score3 = scores3['train_score'].mean()\n",
    "print(\"Train R2 score for (A6①)寝つきの良さ: {:.4f}\".format(average_train_score1))\n",
    "print(\"Test R2 scorefor (A6①)寝つきの良さ: {:.4f}\".format(average_test_score1))\n",
    "print(\"Train R2 score for (A6③)眠りの深さ: {:.4f}\".format(average_train_score2))\n",
    "print(\"Test R2 scorefor (A6③)眠りの深さ: {:.4f}\".format(average_test_score2))\n",
    "print(\"Train R2 score for (A6⑤)全体的な睡眠の質: {:.4f}\".format(average_train_score3))\n",
    "print(\"Test R2 scorefor (A6⑤)全体的な睡眠の質: {:.4f}\".format(average_test_score3))"
   ]
  },
  {
   "cell_type": "code",
   "execution_count": 119,
   "id": "59620317",
   "metadata": {
    "scrolled": false
   },
   "outputs": [
    {
     "name": "stdout",
     "output_type": "stream",
     "text": [
      "Train R2 score for (A6①)寝つきの良さ: 0.5897\n",
      "Test R2 scorefor (A6①)寝つきの良さ: 0.4918\n",
      "Train R2 score for (A6③)眠りの深さ: 0.5674\n",
      "Test R2 scorefor (A6③)眠りの深さ: 0.4369\n",
      "Train R2 score for (A6⑤)全体的な睡眠の質: 0.5325\n",
      "Test R2 scorefor (A6⑤)全体的な睡眠の質: 0.4081\n"
     ]
    }
   ],
   "source": [
    "svc1 = SVC(kernel='rbf', gamma='auto', C=1).fit(X, y1)\n",
    "svc2 = SVC(kernel='rbf', gamma='auto', C=1).fit(X, y2)\n",
    "svc3 = SVC(kernel='rbf', gamma='auto', C=1).fit(X, y3)\n",
    "scores1 = cross_validate(svc1, X, y1, return_train_score=True, cv=10)\n",
    "scores2 = cross_validate(svc2, X, y2, return_train_score=True, cv=10)\n",
    "scores3 = cross_validate(svc3, X, y3, return_train_score=True, cv=10)\n",
    "\n",
    "average_test_score1 = scores1['test_score'].mean()\n",
    "average_train_score1 = scores1['train_score'].mean()\n",
    "average_test_score2 = scores2['test_score'].mean()\n",
    "average_train_score2 = scores2['train_score'].mean()\n",
    "average_test_score3 = scores3['test_score'].mean()\n",
    "average_train_score3 = scores3['train_score'].mean()\n",
    "print(\"Train R2 score for (A6①)寝つきの良さ: {:.4f}\".format(average_train_score1))\n",
    "print(\"Test R2 scorefor (A6①)寝つきの良さ: {:.4f}\".format(average_test_score1))\n",
    "print(\"Train R2 score for (A6③)眠りの深さ: {:.4f}\".format(average_train_score2))\n",
    "print(\"Test R2 scorefor (A6③)眠りの深さ: {:.4f}\".format(average_test_score2))\n",
    "print(\"Train R2 score for (A6⑤)全体的な睡眠の質: {:.4f}\".format(average_train_score3))\n",
    "print(\"Test R2 scorefor (A6⑤)全体的な睡眠の質: {:.4f}\".format(average_test_score3))"
   ]
  },
  {
   "cell_type": "markdown",
   "id": "b67e6481",
   "metadata": {},
   "source": [
    "## AdaBoost"
   ]
  },
  {
   "cell_type": "code",
   "execution_count": 32,
   "id": "40dbcc68",
   "metadata": {},
   "outputs": [],
   "source": [
    "from sklearn.ensemble import AdaBoostRegressor\n",
    "from sklearn.ensemble import AdaBoostClassifier"
   ]
  },
  {
   "cell_type": "code",
   "execution_count": 120,
   "id": "72a313f3",
   "metadata": {
    "scrolled": false
   },
   "outputs": [
    {
     "name": "stdout",
     "output_type": "stream",
     "text": [
      "Train R2 score for (A6①)寝つきの良さ: 0.4689\n",
      "Test R2 scorefor (A6①)寝つきの良さ: -0.0537\n",
      "Train R2 score for (A6③)眠りの深さ: 0.4602\n",
      "Test R2 scorefor (A6③)眠りの深さ: -0.0499\n",
      "Train R2 score for (A6⑤)全体的な睡眠の質: 0.3493\n",
      "Test R2 scorefor (A6⑤)全体的な睡眠の質: -0.1691\n"
     ]
    }
   ],
   "source": [
    "ada1 = AdaBoostRegressor(random_state=0, n_estimators=100).fit(X, y1)\n",
    "ada2 = AdaBoostRegressor(random_state=0, n_estimators=100).fit(X, y2)\n",
    "ada3 = AdaBoostRegressor(random_state=0, n_estimators=100).fit(X, y3)\n",
    "scores1 = cross_validate(ada1, X, y1, return_train_score=True, cv=10)\n",
    "scores2 = cross_validate(ada2, X, y2, return_train_score=True, cv=10)\n",
    "scores3 = cross_validate(ada3, X, y3, return_train_score=True, cv=10)\n",
    "\n",
    "average_test_score1 = scores1['test_score'].mean()\n",
    "average_train_score1 = scores1['train_score'].mean()\n",
    "average_test_score2 = scores2['test_score'].mean()\n",
    "average_train_score2 = scores2['train_score'].mean()\n",
    "average_test_score3 = scores3['test_score'].mean()\n",
    "average_train_score3 = scores3['train_score'].mean()\n",
    "print(\"Train R2 score for (A6①)寝つきの良さ: {:.4f}\".format(average_train_score1))\n",
    "print(\"Test R2 scorefor (A6①)寝つきの良さ: {:.4f}\".format(average_test_score1))\n",
    "print(\"Train R2 score for (A6③)眠りの深さ: {:.4f}\".format(average_train_score2))\n",
    "print(\"Test R2 scorefor (A6③)眠りの深さ: {:.4f}\".format(average_test_score2))\n",
    "print(\"Train R2 score for (A6⑤)全体的な睡眠の質: {:.4f}\".format(average_train_score3))\n",
    "print(\"Test R2 scorefor (A6⑤)全体的な睡眠の質: {:.4f}\".format(average_test_score3))"
   ]
  },
  {
   "cell_type": "code",
   "execution_count": 121,
   "id": "ba4eebd3",
   "metadata": {
    "scrolled": false
   },
   "outputs": [
    {
     "name": "stdout",
     "output_type": "stream",
     "text": [
      "Train R2 score for (A6①)寝つきの良さ: 0.4060\n",
      "Test R2 scorefor (A6①)寝つきの良さ: 0.2949\n",
      "Train R2 score for (A6③)眠りの深さ: 0.4462\n",
      "Test R2 scorefor (A6③)眠りの深さ: 0.4010\n",
      "Train R2 score for (A6⑤)全体的な睡眠の質: 0.3887\n",
      "Test R2 scorefor (A6⑤)全体的な睡眠の質: 0.3272\n"
     ]
    }
   ],
   "source": [
    "ada1 = AdaBoostClassifier(random_state=0, n_estimators=50).fit(X, y1)\n",
    "ada2 = AdaBoostClassifier(random_state=0, n_estimators=50).fit(X, y2)\n",
    "ada3 = AdaBoostClassifier(random_state=0, n_estimators=50).fit(X, y3)\n",
    "scores1 = cross_validate(ada1, X, y1, return_train_score=True, cv=10)\n",
    "scores2 = cross_validate(ada2, X, y2, return_train_score=True, cv=10)\n",
    "scores3 = cross_validate(ada3, X, y3, return_train_score=True, cv=10)\n",
    "\n",
    "average_test_score1 = scores1['test_score'].mean()\n",
    "average_train_score1 = scores1['train_score'].mean()\n",
    "average_test_score2 = scores2['test_score'].mean()\n",
    "average_train_score2 = scores2['train_score'].mean()\n",
    "average_test_score3 = scores3['test_score'].mean()\n",
    "average_train_score3 = scores3['train_score'].mean()\n",
    "print(\"Train R2 score for (A6①)寝つきの良さ: {:.4f}\".format(average_train_score1))\n",
    "print(\"Test R2 scorefor (A6①)寝つきの良さ: {:.4f}\".format(average_test_score1))\n",
    "print(\"Train R2 score for (A6③)眠りの深さ: {:.4f}\".format(average_train_score2))\n",
    "print(\"Test R2 scorefor (A6③)眠りの深さ: {:.4f}\".format(average_test_score2))\n",
    "print(\"Train R2 score for (A6⑤)全体的な睡眠の質: {:.4f}\".format(average_train_score3))\n",
    "print(\"Test R2 scorefor (A6⑤)全体的な睡眠の質: {:.4f}\".format(average_test_score3))"
   ]
  },
  {
   "cell_type": "markdown",
   "id": "61cdd806",
   "metadata": {},
   "source": [
    "## Random Forest"
   ]
  },
  {
   "cell_type": "code",
   "execution_count": 54,
   "id": "8cd0a141",
   "metadata": {},
   "outputs": [],
   "source": [
    "from sklearn.ensemble import RandomForestRegressor\n",
    "from sklearn.ensemble import RandomForestClassifier"
   ]
  },
  {
   "cell_type": "code",
   "execution_count": 122,
   "id": "ada8b713",
   "metadata": {
    "scrolled": false
   },
   "outputs": [
    {
     "name": "stdout",
     "output_type": "stream",
     "text": [
      "Train R2 score for (A6①)寝つきの良さ: 0.4624\n",
      "Test R2 scorefor (A6①)寝つきの良さ: -0.0057\n",
      "Train R2 score for (A6③)眠りの深さ: 0.4855\n",
      "Test R2 scorefor (A6③)眠りの深さ: 0.0640\n",
      "Train R2 score for (A6⑤)全体的な睡眠の質: 0.3688\n",
      "Test R2 scorefor (A6⑤)全体的な睡眠の質: -0.0639\n"
     ]
    }
   ],
   "source": [
    "forest1 = RandomForestRegressor(max_depth=4, random_state=0).fit(X, y1)\n",
    "forest2 = RandomForestRegressor(max_depth=4, random_state=0).fit(X, y2)\n",
    "forest3 = RandomForestRegressor(max_depth=4, random_state=0).fit(X, y3)\n",
    "scores1 = cross_validate(forest1, X, y1, return_train_score=True, cv=10)\n",
    "scores2 = cross_validate(forest2, X, y2, return_train_score=True, cv=10)\n",
    "scores3 = cross_validate(forest3, X, y3, return_train_score=True, cv=10)\n",
    "\n",
    "average_test_score1 = scores1['test_score'].mean()\n",
    "average_train_score1 = scores1['train_score'].mean()\n",
    "average_test_score2 = scores2['test_score'].mean()\n",
    "average_train_score2 = scores2['train_score'].mean()\n",
    "average_test_score3 = scores3['test_score'].mean()\n",
    "average_train_score3 = scores3['train_score'].mean()\n",
    "print(\"Train R2 score for (A6①)寝つきの良さ: {:.4f}\".format(average_train_score1))\n",
    "print(\"Test R2 scorefor (A6①)寝つきの良さ: {:.4f}\".format(average_test_score1))\n",
    "print(\"Train R2 score for (A6③)眠りの深さ: {:.4f}\".format(average_train_score2))\n",
    "print(\"Test R2 scorefor (A6③)眠りの深さ: {:.4f}\".format(average_test_score2))\n",
    "print(\"Train R2 score for (A6⑤)全体的な睡眠の質: {:.4f}\".format(average_train_score3))\n",
    "print(\"Test R2 scorefor (A6⑤)全体的な睡眠の質: {:.4f}\".format(average_test_score3))"
   ]
  },
  {
   "cell_type": "code",
   "execution_count": 123,
   "id": "3980897f",
   "metadata": {
    "scrolled": false
   },
   "outputs": [
    {
     "name": "stdout",
     "output_type": "stream",
     "text": [
      "Train R2 score for (A6①)寝つきの良さ: 0.5487\n",
      "Test R2 scorefor (A6①)寝つきの良さ: 0.4887\n",
      "Train R2 score for (A6③)眠りの深さ: 0.5491\n",
      "Test R2 scorefor (A6③)眠りの深さ: 0.4400\n",
      "Train R2 score for (A6⑤)全体的な睡眠の質: 0.5178\n",
      "Test R2 scorefor (A6⑤)全体的な睡眠の質: 0.4501\n"
     ]
    }
   ],
   "source": [
    "forest1 = RandomForestClassifier(max_depth=2, random_state=0).fit(X, y1)\n",
    "forest2 = RandomForestClassifier(max_depth=2, random_state=0).fit(X, y2)\n",
    "forest3 = RandomForestClassifier(max_depth=2, random_state=0).fit(X, y3)\n",
    "scores1 = cross_validate(forest1, X, y1, return_train_score=True, cv=10)\n",
    "scores2 = cross_validate(forest2, X, y2, return_train_score=True, cv=10)\n",
    "scores3 = cross_validate(forest3, X, y3, return_train_score=True, cv=10)\n",
    "\n",
    "average_test_score1 = scores1['test_score'].mean()\n",
    "average_train_score1 = scores1['train_score'].mean()\n",
    "average_test_score2 = scores2['test_score'].mean()\n",
    "average_train_score2 = scores2['train_score'].mean()\n",
    "average_test_score3 = scores3['test_score'].mean()\n",
    "average_train_score3 = scores3['train_score'].mean()\n",
    "print(\"Train R2 score for (A6①)寝つきの良さ: {:.4f}\".format(average_train_score1))\n",
    "print(\"Test R2 scorefor (A6①)寝つきの良さ: {:.4f}\".format(average_test_score1))\n",
    "print(\"Train R2 score for (A6③)眠りの深さ: {:.4f}\".format(average_train_score2))\n",
    "print(\"Test R2 scorefor (A6③)眠りの深さ: {:.4f}\".format(average_test_score2))\n",
    "print(\"Train R2 score for (A6⑤)全体的な睡眠の質: {:.4f}\".format(average_train_score3))\n",
    "print(\"Test R2 scorefor (A6⑤)全体的な睡眠の質: {:.4f}\".format(average_test_score3))"
   ]
  },
  {
   "cell_type": "markdown",
   "id": "7811e152",
   "metadata": {},
   "source": [
    "## MLP"
   ]
  },
  {
   "cell_type": "code",
   "execution_count": 67,
   "id": "29cbf792",
   "metadata": {},
   "outputs": [],
   "source": [
    "from sklearn.neural_network import MLPRegressor\n",
    "from sklearn.neural_network import MLPClassifier"
   ]
  },
  {
   "cell_type": "code",
   "execution_count": 128,
   "id": "269eee5d",
   "metadata": {
    "scrolled": false
   },
   "outputs": [
    {
     "name": "stderr",
     "output_type": "stream",
     "text": [
      "/Library/Frameworks/Python.framework/Versions/3.11/lib/python3.11/site-packages/sklearn/neural_network/_multilayer_perceptron.py:691: ConvergenceWarning: Stochastic Optimizer: Maximum iterations (500) reached and the optimization hasn't converged yet.\n",
      "  warnings.warn(\n",
      "/Library/Frameworks/Python.framework/Versions/3.11/lib/python3.11/site-packages/sklearn/neural_network/_multilayer_perceptron.py:691: ConvergenceWarning: Stochastic Optimizer: Maximum iterations (500) reached and the optimization hasn't converged yet.\n",
      "  warnings.warn(\n",
      "/Library/Frameworks/Python.framework/Versions/3.11/lib/python3.11/site-packages/sklearn/neural_network/_multilayer_perceptron.py:691: ConvergenceWarning: Stochastic Optimizer: Maximum iterations (500) reached and the optimization hasn't converged yet.\n",
      "  warnings.warn(\n",
      "/Library/Frameworks/Python.framework/Versions/3.11/lib/python3.11/site-packages/sklearn/neural_network/_multilayer_perceptron.py:691: ConvergenceWarning: Stochastic Optimizer: Maximum iterations (500) reached and the optimization hasn't converged yet.\n",
      "  warnings.warn(\n",
      "/Library/Frameworks/Python.framework/Versions/3.11/lib/python3.11/site-packages/sklearn/neural_network/_multilayer_perceptron.py:691: ConvergenceWarning: Stochastic Optimizer: Maximum iterations (500) reached and the optimization hasn't converged yet.\n",
      "  warnings.warn(\n",
      "/Library/Frameworks/Python.framework/Versions/3.11/lib/python3.11/site-packages/sklearn/neural_network/_multilayer_perceptron.py:691: ConvergenceWarning: Stochastic Optimizer: Maximum iterations (500) reached and the optimization hasn't converged yet.\n",
      "  warnings.warn(\n",
      "/Library/Frameworks/Python.framework/Versions/3.11/lib/python3.11/site-packages/sklearn/neural_network/_multilayer_perceptron.py:691: ConvergenceWarning: Stochastic Optimizer: Maximum iterations (500) reached and the optimization hasn't converged yet.\n",
      "  warnings.warn(\n",
      "/Library/Frameworks/Python.framework/Versions/3.11/lib/python3.11/site-packages/sklearn/neural_network/_multilayer_perceptron.py:691: ConvergenceWarning: Stochastic Optimizer: Maximum iterations (500) reached and the optimization hasn't converged yet.\n",
      "  warnings.warn(\n",
      "/Library/Frameworks/Python.framework/Versions/3.11/lib/python3.11/site-packages/sklearn/neural_network/_multilayer_perceptron.py:691: ConvergenceWarning: Stochastic Optimizer: Maximum iterations (500) reached and the optimization hasn't converged yet.\n",
      "  warnings.warn(\n",
      "/Library/Frameworks/Python.framework/Versions/3.11/lib/python3.11/site-packages/sklearn/neural_network/_multilayer_perceptron.py:691: ConvergenceWarning: Stochastic Optimizer: Maximum iterations (500) reached and the optimization hasn't converged yet.\n",
      "  warnings.warn(\n",
      "/Library/Frameworks/Python.framework/Versions/3.11/lib/python3.11/site-packages/sklearn/neural_network/_multilayer_perceptron.py:691: ConvergenceWarning: Stochastic Optimizer: Maximum iterations (500) reached and the optimization hasn't converged yet.\n",
      "  warnings.warn(\n",
      "/Library/Frameworks/Python.framework/Versions/3.11/lib/python3.11/site-packages/sklearn/neural_network/_multilayer_perceptron.py:691: ConvergenceWarning: Stochastic Optimizer: Maximum iterations (500) reached and the optimization hasn't converged yet.\n",
      "  warnings.warn(\n",
      "/Library/Frameworks/Python.framework/Versions/3.11/lib/python3.11/site-packages/sklearn/neural_network/_multilayer_perceptron.py:691: ConvergenceWarning: Stochastic Optimizer: Maximum iterations (500) reached and the optimization hasn't converged yet.\n",
      "  warnings.warn(\n",
      "/Library/Frameworks/Python.framework/Versions/3.11/lib/python3.11/site-packages/sklearn/neural_network/_multilayer_perceptron.py:691: ConvergenceWarning: Stochastic Optimizer: Maximum iterations (500) reached and the optimization hasn't converged yet.\n",
      "  warnings.warn(\n",
      "/Library/Frameworks/Python.framework/Versions/3.11/lib/python3.11/site-packages/sklearn/neural_network/_multilayer_perceptron.py:691: ConvergenceWarning: Stochastic Optimizer: Maximum iterations (500) reached and the optimization hasn't converged yet.\n",
      "  warnings.warn(\n",
      "/Library/Frameworks/Python.framework/Versions/3.11/lib/python3.11/site-packages/sklearn/neural_network/_multilayer_perceptron.py:691: ConvergenceWarning: Stochastic Optimizer: Maximum iterations (500) reached and the optimization hasn't converged yet.\n",
      "  warnings.warn(\n",
      "/Library/Frameworks/Python.framework/Versions/3.11/lib/python3.11/site-packages/sklearn/neural_network/_multilayer_perceptron.py:691: ConvergenceWarning: Stochastic Optimizer: Maximum iterations (500) reached and the optimization hasn't converged yet.\n",
      "  warnings.warn(\n",
      "/Library/Frameworks/Python.framework/Versions/3.11/lib/python3.11/site-packages/sklearn/neural_network/_multilayer_perceptron.py:691: ConvergenceWarning: Stochastic Optimizer: Maximum iterations (500) reached and the optimization hasn't converged yet.\n",
      "  warnings.warn(\n",
      "/Library/Frameworks/Python.framework/Versions/3.11/lib/python3.11/site-packages/sklearn/neural_network/_multilayer_perceptron.py:691: ConvergenceWarning: Stochastic Optimizer: Maximum iterations (500) reached and the optimization hasn't converged yet.\n",
      "  warnings.warn(\n",
      "/Library/Frameworks/Python.framework/Versions/3.11/lib/python3.11/site-packages/sklearn/neural_network/_multilayer_perceptron.py:691: ConvergenceWarning: Stochastic Optimizer: Maximum iterations (500) reached and the optimization hasn't converged yet.\n",
      "  warnings.warn(\n",
      "/Library/Frameworks/Python.framework/Versions/3.11/lib/python3.11/site-packages/sklearn/neural_network/_multilayer_perceptron.py:691: ConvergenceWarning: Stochastic Optimizer: Maximum iterations (500) reached and the optimization hasn't converged yet.\n",
      "  warnings.warn(\n",
      "/Library/Frameworks/Python.framework/Versions/3.11/lib/python3.11/site-packages/sklearn/neural_network/_multilayer_perceptron.py:691: ConvergenceWarning: Stochastic Optimizer: Maximum iterations (500) reached and the optimization hasn't converged yet.\n",
      "  warnings.warn(\n",
      "/Library/Frameworks/Python.framework/Versions/3.11/lib/python3.11/site-packages/sklearn/neural_network/_multilayer_perceptron.py:691: ConvergenceWarning: Stochastic Optimizer: Maximum iterations (500) reached and the optimization hasn't converged yet.\n",
      "  warnings.warn(\n",
      "/Library/Frameworks/Python.framework/Versions/3.11/lib/python3.11/site-packages/sklearn/neural_network/_multilayer_perceptron.py:691: ConvergenceWarning: Stochastic Optimizer: Maximum iterations (500) reached and the optimization hasn't converged yet.\n",
      "  warnings.warn(\n",
      "/Library/Frameworks/Python.framework/Versions/3.11/lib/python3.11/site-packages/sklearn/neural_network/_multilayer_perceptron.py:691: ConvergenceWarning: Stochastic Optimizer: Maximum iterations (500) reached and the optimization hasn't converged yet.\n",
      "  warnings.warn(\n",
      "/Library/Frameworks/Python.framework/Versions/3.11/lib/python3.11/site-packages/sklearn/neural_network/_multilayer_perceptron.py:691: ConvergenceWarning: Stochastic Optimizer: Maximum iterations (500) reached and the optimization hasn't converged yet.\n",
      "  warnings.warn(\n",
      "/Library/Frameworks/Python.framework/Versions/3.11/lib/python3.11/site-packages/sklearn/neural_network/_multilayer_perceptron.py:691: ConvergenceWarning: Stochastic Optimizer: Maximum iterations (500) reached and the optimization hasn't converged yet.\n",
      "  warnings.warn(\n",
      "/Library/Frameworks/Python.framework/Versions/3.11/lib/python3.11/site-packages/sklearn/neural_network/_multilayer_perceptron.py:691: ConvergenceWarning: Stochastic Optimizer: Maximum iterations (500) reached and the optimization hasn't converged yet.\n",
      "  warnings.warn(\n",
      "/Library/Frameworks/Python.framework/Versions/3.11/lib/python3.11/site-packages/sklearn/neural_network/_multilayer_perceptron.py:691: ConvergenceWarning: Stochastic Optimizer: Maximum iterations (500) reached and the optimization hasn't converged yet.\n",
      "  warnings.warn(\n",
      "/Library/Frameworks/Python.framework/Versions/3.11/lib/python3.11/site-packages/sklearn/neural_network/_multilayer_perceptron.py:691: ConvergenceWarning: Stochastic Optimizer: Maximum iterations (500) reached and the optimization hasn't converged yet.\n",
      "  warnings.warn(\n",
      "/Library/Frameworks/Python.framework/Versions/3.11/lib/python3.11/site-packages/sklearn/neural_network/_multilayer_perceptron.py:691: ConvergenceWarning: Stochastic Optimizer: Maximum iterations (500) reached and the optimization hasn't converged yet.\n",
      "  warnings.warn(\n"
     ]
    },
    {
     "name": "stderr",
     "output_type": "stream",
     "text": [
      "/Library/Frameworks/Python.framework/Versions/3.11/lib/python3.11/site-packages/sklearn/neural_network/_multilayer_perceptron.py:691: ConvergenceWarning: Stochastic Optimizer: Maximum iterations (500) reached and the optimization hasn't converged yet.\n",
      "  warnings.warn(\n"
     ]
    },
    {
     "name": "stdout",
     "output_type": "stream",
     "text": [
      "Train R2 score for (A6①)寝つきの良さ: 0.4217\n",
      "Test R2 scorefor (A6①)寝つきの良さ: -0.1923\n",
      "Train R2 score for (A6③)眠りの深さ: 0.4496\n",
      "Test R2 scorefor (A6③)眠りの深さ: -0.1377\n",
      "Train R2 score for (A6⑤)全体的な睡眠の質: 0.3259\n",
      "Test R2 scorefor (A6⑤)全体的な睡眠の質: -0.2661\n"
     ]
    },
    {
     "name": "stderr",
     "output_type": "stream",
     "text": [
      "/Library/Frameworks/Python.framework/Versions/3.11/lib/python3.11/site-packages/sklearn/neural_network/_multilayer_perceptron.py:691: ConvergenceWarning: Stochastic Optimizer: Maximum iterations (500) reached and the optimization hasn't converged yet.\n",
      "  warnings.warn(\n"
     ]
    }
   ],
   "source": [
    "mlp1 = MLPRegressor(random_state=1, hidden_layer_sizes=100, max_iter=500).fit(X, y1)\n",
    "mlp2 = MLPRegressor(random_state=1, hidden_layer_sizes=100, max_iter=500).fit(X, y2)\n",
    "mlp3 = MLPRegressor(random_state=1, hidden_layer_sizes=100, max_iter=500).fit(X, y3)\n",
    "scores1 = cross_validate(mlp1, X, y1, return_train_score=True, cv=10)\n",
    "scores2 = cross_validate(mlp2, X, y2, return_train_score=True, cv=10)\n",
    "scores3 = cross_validate(mlp3, X, y3, return_train_score=True, cv=10)\n",
    "\n",
    "average_test_score1 = scores1['test_score'].mean()\n",
    "average_train_score1 = scores1['train_score'].mean()\n",
    "average_test_score2 = scores2['test_score'].mean()\n",
    "average_train_score2 = scores2['train_score'].mean()\n",
    "average_test_score3 = scores3['test_score'].mean()\n",
    "average_train_score3 = scores3['train_score'].mean()\n",
    "print(\"Train R2 score for (A6①)寝つきの良さ: {:.4f}\".format(average_train_score1))\n",
    "print(\"Test R2 scorefor (A6①)寝つきの良さ: {:.4f}\".format(average_test_score1))\n",
    "print(\"Train R2 score for (A6③)眠りの深さ: {:.4f}\".format(average_train_score2))\n",
    "print(\"Test R2 scorefor (A6③)眠りの深さ: {:.4f}\".format(average_test_score2))\n",
    "print(\"Train R2 score for (A6⑤)全体的な睡眠の質: {:.4f}\".format(average_train_score3))\n",
    "print(\"Test R2 scorefor (A6⑤)全体的な睡眠の質: {:.4f}\".format(average_test_score3))"
   ]
  },
  {
   "cell_type": "code",
   "execution_count": 127,
   "id": "e6d6f570",
   "metadata": {
    "scrolled": false
   },
   "outputs": [
    {
     "name": "stderr",
     "output_type": "stream",
     "text": [
      "/Library/Frameworks/Python.framework/Versions/3.11/lib/python3.11/site-packages/sklearn/neural_network/_multilayer_perceptron.py:691: ConvergenceWarning: Stochastic Optimizer: Maximum iterations (500) reached and the optimization hasn't converged yet.\n",
      "  warnings.warn(\n",
      "/Library/Frameworks/Python.framework/Versions/3.11/lib/python3.11/site-packages/sklearn/neural_network/_multilayer_perceptron.py:691: ConvergenceWarning: Stochastic Optimizer: Maximum iterations (500) reached and the optimization hasn't converged yet.\n",
      "  warnings.warn(\n",
      "/Library/Frameworks/Python.framework/Versions/3.11/lib/python3.11/site-packages/sklearn/neural_network/_multilayer_perceptron.py:691: ConvergenceWarning: Stochastic Optimizer: Maximum iterations (500) reached and the optimization hasn't converged yet.\n",
      "  warnings.warn(\n",
      "/Library/Frameworks/Python.framework/Versions/3.11/lib/python3.11/site-packages/sklearn/neural_network/_multilayer_perceptron.py:691: ConvergenceWarning: Stochastic Optimizer: Maximum iterations (500) reached and the optimization hasn't converged yet.\n",
      "  warnings.warn(\n",
      "/Library/Frameworks/Python.framework/Versions/3.11/lib/python3.11/site-packages/sklearn/neural_network/_multilayer_perceptron.py:691: ConvergenceWarning: Stochastic Optimizer: Maximum iterations (500) reached and the optimization hasn't converged yet.\n",
      "  warnings.warn(\n",
      "/Library/Frameworks/Python.framework/Versions/3.11/lib/python3.11/site-packages/sklearn/neural_network/_multilayer_perceptron.py:691: ConvergenceWarning: Stochastic Optimizer: Maximum iterations (500) reached and the optimization hasn't converged yet.\n",
      "  warnings.warn(\n",
      "/Library/Frameworks/Python.framework/Versions/3.11/lib/python3.11/site-packages/sklearn/neural_network/_multilayer_perceptron.py:691: ConvergenceWarning: Stochastic Optimizer: Maximum iterations (500) reached and the optimization hasn't converged yet.\n",
      "  warnings.warn(\n",
      "/Library/Frameworks/Python.framework/Versions/3.11/lib/python3.11/site-packages/sklearn/neural_network/_multilayer_perceptron.py:691: ConvergenceWarning: Stochastic Optimizer: Maximum iterations (500) reached and the optimization hasn't converged yet.\n",
      "  warnings.warn(\n",
      "/Library/Frameworks/Python.framework/Versions/3.11/lib/python3.11/site-packages/sklearn/neural_network/_multilayer_perceptron.py:691: ConvergenceWarning: Stochastic Optimizer: Maximum iterations (500) reached and the optimization hasn't converged yet.\n",
      "  warnings.warn(\n",
      "/Library/Frameworks/Python.framework/Versions/3.11/lib/python3.11/site-packages/sklearn/neural_network/_multilayer_perceptron.py:691: ConvergenceWarning: Stochastic Optimizer: Maximum iterations (500) reached and the optimization hasn't converged yet.\n",
      "  warnings.warn(\n",
      "/Library/Frameworks/Python.framework/Versions/3.11/lib/python3.11/site-packages/sklearn/neural_network/_multilayer_perceptron.py:691: ConvergenceWarning: Stochastic Optimizer: Maximum iterations (500) reached and the optimization hasn't converged yet.\n",
      "  warnings.warn(\n",
      "/Library/Frameworks/Python.framework/Versions/3.11/lib/python3.11/site-packages/sklearn/neural_network/_multilayer_perceptron.py:691: ConvergenceWarning: Stochastic Optimizer: Maximum iterations (500) reached and the optimization hasn't converged yet.\n",
      "  warnings.warn(\n",
      "/Library/Frameworks/Python.framework/Versions/3.11/lib/python3.11/site-packages/sklearn/neural_network/_multilayer_perceptron.py:691: ConvergenceWarning: Stochastic Optimizer: Maximum iterations (500) reached and the optimization hasn't converged yet.\n",
      "  warnings.warn(\n",
      "/Library/Frameworks/Python.framework/Versions/3.11/lib/python3.11/site-packages/sklearn/neural_network/_multilayer_perceptron.py:691: ConvergenceWarning: Stochastic Optimizer: Maximum iterations (500) reached and the optimization hasn't converged yet.\n",
      "  warnings.warn(\n",
      "/Library/Frameworks/Python.framework/Versions/3.11/lib/python3.11/site-packages/sklearn/neural_network/_multilayer_perceptron.py:691: ConvergenceWarning: Stochastic Optimizer: Maximum iterations (500) reached and the optimization hasn't converged yet.\n",
      "  warnings.warn(\n",
      "/Library/Frameworks/Python.framework/Versions/3.11/lib/python3.11/site-packages/sklearn/neural_network/_multilayer_perceptron.py:691: ConvergenceWarning: Stochastic Optimizer: Maximum iterations (500) reached and the optimization hasn't converged yet.\n",
      "  warnings.warn(\n",
      "/Library/Frameworks/Python.framework/Versions/3.11/lib/python3.11/site-packages/sklearn/neural_network/_multilayer_perceptron.py:691: ConvergenceWarning: Stochastic Optimizer: Maximum iterations (500) reached and the optimization hasn't converged yet.\n",
      "  warnings.warn(\n",
      "/Library/Frameworks/Python.framework/Versions/3.11/lib/python3.11/site-packages/sklearn/neural_network/_multilayer_perceptron.py:691: ConvergenceWarning: Stochastic Optimizer: Maximum iterations (500) reached and the optimization hasn't converged yet.\n",
      "  warnings.warn(\n",
      "/Library/Frameworks/Python.framework/Versions/3.11/lib/python3.11/site-packages/sklearn/neural_network/_multilayer_perceptron.py:691: ConvergenceWarning: Stochastic Optimizer: Maximum iterations (500) reached and the optimization hasn't converged yet.\n",
      "  warnings.warn(\n",
      "/Library/Frameworks/Python.framework/Versions/3.11/lib/python3.11/site-packages/sklearn/neural_network/_multilayer_perceptron.py:691: ConvergenceWarning: Stochastic Optimizer: Maximum iterations (500) reached and the optimization hasn't converged yet.\n",
      "  warnings.warn(\n",
      "/Library/Frameworks/Python.framework/Versions/3.11/lib/python3.11/site-packages/sklearn/neural_network/_multilayer_perceptron.py:691: ConvergenceWarning: Stochastic Optimizer: Maximum iterations (500) reached and the optimization hasn't converged yet.\n",
      "  warnings.warn(\n",
      "/Library/Frameworks/Python.framework/Versions/3.11/lib/python3.11/site-packages/sklearn/neural_network/_multilayer_perceptron.py:691: ConvergenceWarning: Stochastic Optimizer: Maximum iterations (500) reached and the optimization hasn't converged yet.\n",
      "  warnings.warn(\n",
      "/Library/Frameworks/Python.framework/Versions/3.11/lib/python3.11/site-packages/sklearn/neural_network/_multilayer_perceptron.py:691: ConvergenceWarning: Stochastic Optimizer: Maximum iterations (500) reached and the optimization hasn't converged yet.\n",
      "  warnings.warn(\n",
      "/Library/Frameworks/Python.framework/Versions/3.11/lib/python3.11/site-packages/sklearn/neural_network/_multilayer_perceptron.py:691: ConvergenceWarning: Stochastic Optimizer: Maximum iterations (500) reached and the optimization hasn't converged yet.\n",
      "  warnings.warn(\n",
      "/Library/Frameworks/Python.framework/Versions/3.11/lib/python3.11/site-packages/sklearn/neural_network/_multilayer_perceptron.py:691: ConvergenceWarning: Stochastic Optimizer: Maximum iterations (500) reached and the optimization hasn't converged yet.\n",
      "  warnings.warn(\n",
      "/Library/Frameworks/Python.framework/Versions/3.11/lib/python3.11/site-packages/sklearn/neural_network/_multilayer_perceptron.py:691: ConvergenceWarning: Stochastic Optimizer: Maximum iterations (500) reached and the optimization hasn't converged yet.\n",
      "  warnings.warn(\n",
      "/Library/Frameworks/Python.framework/Versions/3.11/lib/python3.11/site-packages/sklearn/neural_network/_multilayer_perceptron.py:691: ConvergenceWarning: Stochastic Optimizer: Maximum iterations (500) reached and the optimization hasn't converged yet.\n",
      "  warnings.warn(\n",
      "/Library/Frameworks/Python.framework/Versions/3.11/lib/python3.11/site-packages/sklearn/neural_network/_multilayer_perceptron.py:691: ConvergenceWarning: Stochastic Optimizer: Maximum iterations (500) reached and the optimization hasn't converged yet.\n",
      "  warnings.warn(\n",
      "/Library/Frameworks/Python.framework/Versions/3.11/lib/python3.11/site-packages/sklearn/neural_network/_multilayer_perceptron.py:691: ConvergenceWarning: Stochastic Optimizer: Maximum iterations (500) reached and the optimization hasn't converged yet.\n",
      "  warnings.warn(\n",
      "/Library/Frameworks/Python.framework/Versions/3.11/lib/python3.11/site-packages/sklearn/neural_network/_multilayer_perceptron.py:691: ConvergenceWarning: Stochastic Optimizer: Maximum iterations (500) reached and the optimization hasn't converged yet.\n",
      "  warnings.warn(\n",
      "/Library/Frameworks/Python.framework/Versions/3.11/lib/python3.11/site-packages/sklearn/neural_network/_multilayer_perceptron.py:691: ConvergenceWarning: Stochastic Optimizer: Maximum iterations (500) reached and the optimization hasn't converged yet.\n",
      "  warnings.warn(\n"
     ]
    },
    {
     "name": "stderr",
     "output_type": "stream",
     "text": [
      "/Library/Frameworks/Python.framework/Versions/3.11/lib/python3.11/site-packages/sklearn/neural_network/_multilayer_perceptron.py:691: ConvergenceWarning: Stochastic Optimizer: Maximum iterations (500) reached and the optimization hasn't converged yet.\n",
      "  warnings.warn(\n"
     ]
    },
    {
     "name": "stdout",
     "output_type": "stream",
     "text": [
      "Train R2 score for (A6①)寝つきの良さ: 0.7145\n",
      "Test R2 scorefor (A6①)寝つきの良さ: 0.4432\n",
      "Train R2 score for (A6③)眠りの深さ: 0.7213\n",
      "Test R2 scorefor (A6③)眠りの深さ: 0.4141\n",
      "Train R2 score for (A6⑤)全体的な睡眠の質: 0.6839\n",
      "Test R2 scorefor (A6⑤)全体的な睡眠の質: 0.3623\n"
     ]
    },
    {
     "name": "stderr",
     "output_type": "stream",
     "text": [
      "/Library/Frameworks/Python.framework/Versions/3.11/lib/python3.11/site-packages/sklearn/neural_network/_multilayer_perceptron.py:691: ConvergenceWarning: Stochastic Optimizer: Maximum iterations (500) reached and the optimization hasn't converged yet.\n",
      "  warnings.warn(\n"
     ]
    }
   ],
   "source": [
    "mlp1 = MLPClassifier(random_state=1, hidden_layer_sizes=100, max_iter=500).fit(X, y1)\n",
    "mlp2 = MLPClassifier(random_state=1, hidden_layer_sizes=100, max_iter=500).fit(X, y2)\n",
    "mlp3 = MLPClassifier(random_state=1, hidden_layer_sizes=100, max_iter=500).fit(X, y3)\n",
    "scores1 = cross_validate(mlp1, X, y1, return_train_score=True, cv=10)\n",
    "scores2 = cross_validate(mlp2, X, y2, return_train_score=True, cv=10)\n",
    "scores3 = cross_validate(mlp3, X, y3, return_train_score=True, cv=10)\n",
    "\n",
    "average_test_score1 = scores1['test_score'].mean()\n",
    "average_train_score1 = scores1['train_score'].mean()\n",
    "average_test_score2 = scores2['test_score'].mean()\n",
    "average_train_score2 = scores2['train_score'].mean()\n",
    "average_test_score3 = scores3['test_score'].mean()\n",
    "average_train_score3 = scores3['train_score'].mean()\n",
    "print(\"Train R2 score for (A6①)寝つきの良さ: {:.4f}\".format(average_train_score1))\n",
    "print(\"Test R2 scorefor (A6①)寝つきの良さ: {:.4f}\".format(average_test_score1))\n",
    "print(\"Train R2 score for (A6③)眠りの深さ: {:.4f}\".format(average_train_score2))\n",
    "print(\"Test R2 scorefor (A6③)眠りの深さ: {:.4f}\".format(average_test_score2))\n",
    "print(\"Train R2 score for (A6⑤)全体的な睡眠の質: {:.4f}\".format(average_train_score3))\n",
    "print(\"Test R2 scorefor (A6⑤)全体的な睡眠の質: {:.4f}\".format(average_test_score3))"
   ]
  },
  {
   "cell_type": "code",
   "execution_count": null,
   "id": "8e926d20",
   "metadata": {},
   "outputs": [],
   "source": []
  }
 ],
 "metadata": {
  "kernelspec": {
   "display_name": "Python 3 (ipykernel)",
   "language": "python",
   "name": "python3"
  },
  "language_info": {
   "codemirror_mode": {
    "name": "ipython",
    "version": 3
   },
   "file_extension": ".py",
   "mimetype": "text/x-python",
   "name": "python",
   "nbconvert_exporter": "python",
   "pygments_lexer": "ipython3",
   "version": "3.11.3"
  }
 },
 "nbformat": 4,
 "nbformat_minor": 5
}
